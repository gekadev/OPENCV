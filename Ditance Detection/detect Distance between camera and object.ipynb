{
 "cells": [
  {
   "cell_type": "code",
   "execution_count": 1,
   "id": "c3390486-2146-4a46-8050-c472cc50d508",
   "metadata": {
    "tags": []
   },
   "outputs": [],
   "source": [
    " \n",
    "import cv2\n",
    "import numpy as np\n",
    "import pandas as pd\n",
    "import cvzone\n",
    "from cvzone.FaceMeshModule import FaceMeshDetector\n",
    "\n",
    "#define detcetor \n",
    "detector = FaceMeshDetector(maxFaces=1)\n",
    "cap = cv2.VideoCapture(0)\n",
    "def calculatFocalLenth(w,d,W):\n",
    "    #f = (w*d)/W\n",
    "    f =(w*d)/W\n",
    "    return f\n",
    "\n",
    "def  claculateDistance(W,f,w):\n",
    "    #(W * f) / w\n",
    "    d = (W * f) / w\n",
    "    return d\n",
    "\n",
    "texts = ['Hi,i am Ahmed Gaber ,',' Ai Developer','i am Passion with Open Cv','Dont Forget To Follow Me !!']\n",
    "sen =25        \n",
    "while True :\n",
    "    _,frame = cap.read(0)\n",
    "    frame,faces = detector.findFaceMesh(frame,draw=False)\n",
    "    if faces :\n",
    "        face =faces[0]\n",
    "        leftPoint=face[145]\n",
    "        rightPoint =face[374]\n",
    "        w,_ =detector.findDistance(leftPoint,rightPoint)\n",
    "        W = 6.3\n",
    "        d = 50\n",
    "        f = calculatFocalLenth(w,d,W)\n",
    "        #print(f)\n",
    "        f =840\n",
    "        d = claculateDistance(W,f,w)\n",
    "        cvzone.putTextRect(frame ,f'Ditance{int(d)}Cm ',(face[10][0]-100,face[10][1]-50),scale=2)\n",
    "        new_image = np.zeros_like(frame) \n",
    "        for i ,text in enumerate(texts) :\n",
    "            singleHeight = 20 + int((int(d/sen)*sen)/4)\n",
    "            scale = 0.4 + (int(d/sen)*sen)/75\n",
    "            cv2.putText(new_image, text, (50, 50 + (i * singleHeight)),cv2.FONT_ITALIC, scale, (255, 255, 255), 1)\n",
    "        final= cvzone.stackImages([frame,new_image],2,1)\n",
    "        cv2.imshow('Final Image',final)\n",
    "    \n",
    " \n",
    "    key = cv2.waitKey(10)\n",
    "    if key == ord('q'):\n",
    "        break\n",
    "cap.release()\n",
    "cv2.destroyAllWindows() "
   ]
  },
  {
   "cell_type": "code",
   "execution_count": null,
   "id": "d99ac838-1b0c-4c3d-8032-75559814433d",
   "metadata": {},
   "outputs": [],
   "source": []
  }
 ],
 "metadata": {
  "kernelspec": {
   "display_name": "Python 3 (ipykernel)",
   "language": "python",
   "name": "python3"
  },
  "language_info": {
   "codemirror_mode": {
    "name": "ipython",
    "version": 3
   },
   "file_extension": ".py",
   "mimetype": "text/x-python",
   "name": "python",
   "nbconvert_exporter": "python",
   "pygments_lexer": "ipython3",
   "version": "3.11.4"
  }
 },
 "nbformat": 4,
 "nbformat_minor": 5
}
