{
 "cells": [
  {
   "cell_type": "code",
   "execution_count": 153,
   "id": "ae90aca5-61d6-4618-83e4-cea375abe0a7",
   "metadata": {
    "tags": []
   },
   "outputs": [],
   "source": [
    "import numpy as np\n",
    "import pandas as pd \n",
    "import matplotlib.pyplot as plt\n",
    "import cv2\n",
    "\n",
    "#load model for haarcasacde\n",
    "face_casscade = cv2.CascadeClassifier('c:/Users/hhhh/Desktop/haarcascades/haarcascades/haarcascade_frontalface_default.xml')\n",
    "eye_classifier = cv2.CascadeClassifier('c:/Users/hhhh/Desktop/haarcascades/haarcascades/haarcascade_eye_tree_eyeglasses.xml')\n",
    "\n",
    "cap = cv2.VideoCapture(0)\n",
    "while True : \n",
    "    _,frame = cap.read()\n",
    "    grayimage =cv2.cvtColor(frame,cv2.COLOR_BGR2GRAY)\n",
    "    #strat detect faces\n",
    "    faces = face_cascade.detectMultiScale(grayimage,1.1,4)\n",
    "    for (x,y,h,w) in faces :\n",
    "        cv2.rectangle(frame,(x,y),(x+w,h+y),(0,255,0),3)\n",
    "        cv2.putText(frame,'Face',(x,y-4),cv2.FONT_HERSHEY_SIMPLEX,.5,(0,0,255),1)\n",
    "        eyes = eye_classifier.detectMultiScale(grayimage,1.2,4)\n",
    "        for (ex,ey,eh,ew) in eyes :\n",
    "            cv2.rectangle(frame,(ex,ey),(ex+ew,eh+ey),(0,255,0),3)\n",
    "            cv2.putText(frame,'eye',(ex,ey-3),cv2.FONT_HERSHEY_SIMPLEX,.5,(0,0,255),1)\n",
    "       \n",
    "    cv2.imshow('image',frame)\n",
    "\n",
    "\n",
    "    key = cv2.waitKey(10)\n",
    "    if key == ord('q'):\n",
    "        break\n",
    "cap.release()\n",
    "cv2.destroyAllWindows()   \n"
   ]
  },
  {
   "cell_type": "code",
   "execution_count": null,
   "id": "72e119bf-f486-4fb2-9f8d-c206ea2bb19a",
   "metadata": {},
   "outputs": [],
   "source": []
  },
  {
   "cell_type": "code",
   "execution_count": null,
   "id": "455e97ce-0bb3-46ff-b24c-318308882069",
   "metadata": {},
   "outputs": [],
   "source": []
  }
 ],
 "metadata": {
  "kernelspec": {
   "display_name": "Python 3 (ipykernel)",
   "language": "python",
   "name": "python3"
  },
  "language_info": {
   "codemirror_mode": {
    "name": "ipython",
    "version": 3
   },
   "file_extension": ".py",
   "mimetype": "text/x-python",
   "name": "python",
   "nbconvert_exporter": "python",
   "pygments_lexer": "ipython3",
   "version": "3.11.3"
  },
  "widgets": {
   "application/vnd.jupyter.widget-state+json": {
    "state": {},
    "version_major": 2,
    "version_minor": 0
   }
  }
 },
 "nbformat": 4,
 "nbformat_minor": 5
}
