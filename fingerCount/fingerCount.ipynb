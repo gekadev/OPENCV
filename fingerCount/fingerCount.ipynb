{
 "cells": [
  {
   "cell_type": "code",
   "execution_count": 40,
   "id": "c3390486-2146-4a46-8050-c472cc50d508",
   "metadata": {
    "tags": []
   },
   "outputs": [],
   "source": [
    "import cvzone\n",
    "from cvzone.HandTrackingModule import HandDetector\n",
    "import cv2\n",
    "import numpy as np\n",
    "import time\n",
    "import mediapipe \n",
    "from cvzone.FPS import FPS\n",
    "import os\n",
    "##############camera setting#########  \n",
    "wCam, hCam = 640, 480\n",
    "cap.set(3,wCam)\n",
    "cap.set(4,hCam)\n",
    "\n",
    "##############load images######### \n",
    "path = 'handimages/'\n",
    "#print (os.listdir(path))\n",
    "imagesList =  []\n",
    "for image in os.listdir(path):\n",
    "    img = cv2.imread(path + image)\n",
    "    img = cv2.resize(img,(128,128))\n",
    "    imagesList.append(img)\n",
    "#define  detector\n",
    "############################### \n",
    "detector = HandDetector(staticMode=False,maxHands=2,modelComplexity=1,detectionCon=0.5, minTrackCon=0.5)                \n",
    "##############images#########   \n",
    "reader = FPS(avgCount=30)\n",
    "cap = cv2.VideoCapture(0)\n",
    "while True :\n",
    "    _,frame = cap.read()\n",
    "    hands,frame = detector.findHands(frame,draw=True,flipType=True)\n",
    "    \n",
    "    if hands :\n",
    "        rightHand = hands[0]\n",
    "        finguers = detector.fingersUp(rightHand)\n",
    "        finguersCount=finguers.count(1)\n",
    "        h,w,c = imagesList[finguersCount-1].shape\n",
    "        frame[0:h,0:w] = imagesList[finguersCount-1]  \n",
    "    imgPNG = cv2.imread(\"C:/Users/Geka/Desktop/update.png\",cv2.IMREAD_UNCHANGED)\n",
    "    imgOverlay = cvzone.overlayPNG(frame, imgPNG, pos=[3, 430])\n",
    "    fps ,img = reader.update(frame,pos=(150,50),scale=1, thickness=2)\n",
    "    cv2.imshow('ss',frame)\n",
    "    key = cv2.waitKey(10)\n",
    "    if key == ord('q'):\n",
    "        break\n",
    "cap.release()\n",
    "cv2.destroyAllWindows() \n"
   ]
  },
  {
   "cell_type": "code",
   "execution_count": null,
   "id": "bea502bc",
   "metadata": {},
   "outputs": [],
   "source": []
  },
  {
   "cell_type": "code",
   "execution_count": null,
   "id": "c510a6f9",
   "metadata": {},
   "outputs": [],
   "source": []
  }
 ],
 "metadata": {
  "kernelspec": {
   "display_name": "Python 3 (ipykernel)",
   "language": "python",
   "name": "python3"
  },
  "language_info": {
   "codemirror_mode": {
    "name": "ipython",
    "version": 3
   },
   "file_extension": ".py",
   "mimetype": "text/x-python",
   "name": "python",
   "nbconvert_exporter": "python",
   "pygments_lexer": "ipython3",
   "version": "3.11.4"
  }
 },
 "nbformat": 4,
 "nbformat_minor": 5
}
