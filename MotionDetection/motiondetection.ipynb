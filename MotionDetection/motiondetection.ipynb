{
 "cells": [
  {
   "cell_type": "code",
   "execution_count": 5,
   "id": "5c2c4511",
   "metadata": {
    "code_folding": [
     4
    ]
   },
   "outputs": [],
   "source": [
    "import numpy as np\n",
    "import pandas as pd \n",
    "import matplotlib.pyplot as plt\n",
    "import cv2\n",
    "def stackImages(scale, imgArray):\n",
    "    rows = len(imgArray)\n",
    "    cols = len(imgArray[0])\n",
    "    rowsAvailable = isinstance(imgArray[0], list)\n",
    "    width = imgArray[0][0].shape[1]\n",
    "    height = imgArray[0][0].shape[0]\n",
    "    if rowsAvailable:\n",
    "        for x in range(0, rows):\n",
    "            for y in range(0, cols):\n",
    "                if imgArray[x][y].shape[:2] == imgArray[0][0].shape[:2]:\n",
    "                    imgArray[x][y] = cv2.resize(imgArray[x][y], (0, 0), None, scale, scale)\n",
    "                else:\n",
    "                    imgArray[x][y] = cv2.resize(imgArray[x][y], (imgArray[0][0].shape[1], imgArray[0][0].shape[0]),\n",
    "                                                None, scale, scale)\n",
    "                if len(imgArray[x][y].shape) == 2: imgArray[x][y] = cv2.cvtColor(imgArray[x][y], cv2.COLOR_GRAY2BGR)\n",
    "        imageBlank = np.zeros((height, width, 3), np.uint8)\n",
    "        hor = [imageBlank] * rows\n",
    "        hor_con = [imageBlank] * rows\n",
    "        for x in range(0, rows):\n",
    "            hor[x] = np.hstack(imgArray[x])\n",
    "        ver = np.vstack(hor)\n",
    "    else:\n",
    "        for x in range(0, rows):\n",
    "            if imgArray[x].shape[:2] == imgArray[0].shape[:2]:\n",
    "                imgArray[x] = cv2.resize(imgArray[x], (0, 0), None, scale, scale)\n",
    "            else:\n",
    "                imgArray[x] = cv2.resize(imgArray[x], (imgArray[0].shape[1], imgArray[0].shape[0]), None, scale, scale)\n",
    "            if len(imgArray[x].shape) == 2: imgArray[x] = cv2.cvtColor(imgArray[x], cv2.COLOR_GRAY2BGR)\n",
    "        hor = np.hstack(imgArray)\n",
    "        ver = hor\n",
    "    return ver\n",
    "\n",
    "\n",
    "cap = cv2.VideoCapture(0)\n",
    "cap.set(3, 640)\n",
    "cap.set(4, 480)\n",
    "_ , frame1 = cap.read()\n",
    "_ , frame2 =cap.read()\n",
    "\n",
    "kernel = np.ones((5,5),np.uint8)\n",
    "while True : \n",
    "    fram_diff = cv2.absdiff(frame1,frame2)\n",
    "    gray_image = cv2.cvtColor(fram_diff,cv2.COLOR_BGR2GRAY)\n",
    "    buller_image = cv2.GaussianBlur(gray_image,(5,5),0)\n",
    "    _,thres_image = cv2.threshold(buller_image,20,255,cv2.THRESH_BINARY)\n",
    "    dilated_image = cv2.dilate(thres_image,kernel=kernel,iterations=3)\n",
    "       \n",
    "\n",
    "    contours, _ = cv2.findContours(dilated_image, cv2.RETR_TREE, cv2.CHAIN_APPROX_SIMPLE)   \n",
    "    contours ,hist = cv2.findContours(dilated_image,cv2.RETR_TREE,cv2.CHAIN_APPROX_SIMPLE)\n",
    "    for contour in contours :\n",
    "        x,y,w,h = cv2.boundingRect(contour)\n",
    "        if cv2.contourArea(contour) <900:\n",
    "            continue   \n",
    "        # cv2.rectangle(frame1,(x,y),(x+w,y+h),(0,0,255),3)\n",
    "        cv2.putText(frame1,'object Moved', (20, 50), cv2.FONT_HERSHEY_SIMPLEX,  1, (0, 255, 255), 3)     \n",
    "\n",
    "                    \n",
    "    \n",
    "    imgStack = stackImages(0.4,([gray_image,buller_image],\n",
    "                            [thres_image,frame1]))\n",
    "    cv2.imshow(\"Stack\", imgStack)\n",
    "    \n",
    "    frame1 = frame2\n",
    "    _,frame2  =cap.read(0)\n",
    "    \n",
    "    key = cv2.waitKey(10)\n",
    "    if key == ord('q'):\n",
    "        break\n",
    "cap.release()\n",
    "cv2.destroyAllWindows()   "
   ]
  },
  {
   "cell_type": "code",
   "execution_count": null,
   "id": "4875ad5c-07b0-4a31-b54d-bee01594051e",
   "metadata": {},
   "outputs": [],
   "source": []
  }
 ],
 "metadata": {
  "kernelspec": {
   "display_name": "Python 3 (ipykernel)",
   "language": "python",
   "name": "python3"
  },
  "language_info": {
   "codemirror_mode": {
    "name": "ipython",
    "version": 3
   },
   "file_extension": ".py",
   "mimetype": "text/x-python",
   "name": "python",
   "nbconvert_exporter": "python",
   "pygments_lexer": "ipython3",
   "version": "3.11.3"
  },
  "widgets": {
   "application/vnd.jupyter.widget-state+json": {
    "state": {},
    "version_major": 2,
    "version_minor": 0
   }
  }
 },
 "nbformat": 4,
 "nbformat_minor": 5
}
